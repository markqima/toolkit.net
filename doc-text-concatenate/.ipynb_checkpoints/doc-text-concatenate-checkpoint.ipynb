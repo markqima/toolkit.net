{
 "cells": [
  {
   "cell_type": "markdown",
   "metadata": {},
   "source": [
    "Should install library using:\n",
    "\n",
    "`pip install python-docx`\n",
    "\n",
    "Add ! before command to execute in notebook."
   ]
  },
  {
   "cell_type": "code",
   "execution_count": 24,
   "metadata": {},
   "outputs": [],
   "source": [
    "from docx import Document\n",
    "import pandas as pd\n",
    "\n",
    "\n",
    "def get_text(filename):\n",
    "    doc = Document(filename)\n",
    "    fullText = []\n",
    "    for para in doc.paragraphs:\n",
    "        fullText.append(strip(para.text))\n",
    "    return ';'.join(fullText)\n"
   ]
  },
  {
   "cell_type": "code",
   "execution_count": 28,
   "metadata": {
    "scrolled": true
   },
   "outputs": [],
   "source": [
    "import os\n",
    "\n",
    "folder = 'D:/data/26109137-2020-12-11/26109137-2020-12-11/'\n",
    "result = []\n",
    "total = 0\n",
    "for file_ in os.listdir(folder):\n",
    "    if file_.endswith('docx'):\n",
    "        line_text = get_text(folder+file_)\n",
    "        if ';' in line_text:\n",
    "            current = str.split(line_text, ';')\n",
    "        else:\n",
    "            current = str.split(line_text, '\\n')\n",
    "        current_len = len(current)\n",
    "        total+=current_len\n",
    "        result+=current\n",
    "#        print(file_,line_text, current, current_len)\n",
    "#     if file_.endswith('xlsx'):\n",
    "#         df = pd.read_excel(folder+file_), header = None)"
   ]
  },
  {
   "cell_type": "code",
   "execution_count": 25,
   "metadata": {},
   "outputs": [],
   "source": [
    "df = pd.DataFrame(result)"
   ]
  },
  {
   "cell_type": "code",
   "execution_count": 27,
   "metadata": {},
   "outputs": [],
   "source": [
    "df.to_csv('./result.csv', encoding='utf_8_sig', index=False)"
   ]
  },
  {
   "cell_type": "code",
   "execution_count": null,
   "metadata": {},
   "outputs": [],
   "source": []
  }
 ],
 "metadata": {
  "kernelspec": {
   "display_name": "Python 3",
   "language": "python",
   "name": "python3"
  },
  "language_info": {
   "codemirror_mode": {
    "name": "ipython",
    "version": 3
   },
   "file_extension": ".py",
   "mimetype": "text/x-python",
   "name": "python",
   "nbconvert_exporter": "python",
   "pygments_lexer": "ipython3",
   "version": "3.8.3"
  }
 },
 "nbformat": 4,
 "nbformat_minor": 4
}
